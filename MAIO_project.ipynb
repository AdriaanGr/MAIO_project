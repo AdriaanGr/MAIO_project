{
 "cells": [
  {
   "cell_type": "code",
   "execution_count": 1,
   "metadata": {},
   "outputs": [],
   "source": [
    "import numpy as np\n",
    "import matplotlib.pyplot as plt\n",
    "import cartopy.crs as ccrs\n",
    "import cartopy.feature as cfeature\n",
    "import glob\n",
    "from scipy.stats import linregress as lin\n",
    "from scipy.optimize import curve_fit\n",
    "from datetime import datetime, timedelta"
   ]
  },
  {
   "cell_type": "code",
   "execution_count": 2,
   "metadata": {},
   "outputs": [],
   "source": [
    "N = np.size(glob.glob(\"./JPL_mscn*.csv\", recursive=True))\n",
    "M = np.shape(np.genfromtxt('JPL_mscn017.csv', delimiter=',', skip_header=15))[0]"
   ]
  },
  {
   "cell_type": "code",
   "execution_count": 3,
   "metadata": {},
   "outputs": [],
   "source": [
    "#glob.glob(\"./JPL_mscn*.csv\", recursive=True)"
   ]
  },
  {
   "cell_type": "code",
   "execution_count": 5,
   "metadata": {},
   "outputs": [
    {
     "name": "stdout",
     "output_type": "stream",
     "text": [
      "(163, 2) 0\n",
      "(163, 2) 1\n",
      "(164, 2) 2\n"
     ]
    },
    {
     "ename": "ValueError",
     "evalue": "could not broadcast input array from shape (164,2) into shape (163,2)",
     "output_type": "error",
     "traceback": [
      "\u001b[1;31m---------------------------------------------------------------------------\u001b[0m",
      "\u001b[1;31mValueError\u001b[0m                                Traceback (most recent call last)",
      "\u001b[1;32m<ipython-input-5-7acc3aa0f57a>\u001b[0m in \u001b[0;36m<module>\u001b[1;34m\u001b[0m\n\u001b[0;32m      5\u001b[0m     \u001b[0mfile\u001b[0m \u001b[1;33m=\u001b[0m \u001b[0mnp\u001b[0m\u001b[1;33m.\u001b[0m\u001b[0mgenfromtxt\u001b[0m\u001b[1;33m(\u001b[0m\u001b[0mfn\u001b[0m\u001b[1;33m,\u001b[0m \u001b[0mdelimiter\u001b[0m\u001b[1;33m=\u001b[0m\u001b[1;34m','\u001b[0m\u001b[1;33m,\u001b[0m \u001b[0mskip_header\u001b[0m\u001b[1;33m=\u001b[0m\u001b[1;36m15\u001b[0m\u001b[1;33m)\u001b[0m\u001b[1;33m\u001b[0m\u001b[0m\n\u001b[0;32m      6\u001b[0m     \u001b[0mprint\u001b[0m\u001b[1;33m(\u001b[0m\u001b[0mfile\u001b[0m\u001b[1;33m.\u001b[0m\u001b[0mshape\u001b[0m\u001b[1;33m,\u001b[0m\u001b[0mi\u001b[0m\u001b[1;33m)\u001b[0m\u001b[1;33m\u001b[0m\u001b[0m\n\u001b[1;32m----> 7\u001b[1;33m     \u001b[0mdata\u001b[0m\u001b[1;33m[\u001b[0m\u001b[0mi\u001b[0m\u001b[1;33m]\u001b[0m \u001b[1;33m=\u001b[0m \u001b[0mfile\u001b[0m\u001b[1;33m\u001b[0m\u001b[0m\n\u001b[0m",
      "\u001b[1;31mValueError\u001b[0m: could not broadcast input array from shape (164,2) into shape (163,2)"
     ]
    }
   ],
   "source": [
    "file_n = glob.glob(\"./JPL_mscn*.csv\", recursive=True)\n",
    "\n",
    "data = np.empty((N, M, 2))\n",
    "for i, fn in enumerate(file_n):\n",
    "    file = np.genfromtxt(fn, delimiter=',', skip_header=15)\n",
    "    print(file.shape,i)\n",
    "    data[i] = file"
   ]
  },
  {
   "cell_type": "code",
   "execution_count": null,
   "metadata": {},
   "outputs": [],
   "source": [
    "# Detrend\n",
    "trends = np.zeros((N, 7))\n",
    "def fit_f(t, a0, a1, a2, a3, a4, b0, b1):\n",
    "    lintr = a0 + a1 * t + a2 * t * t\n",
    "    seasonal = a3 * np.cos(2.0 * np.pi / 365.25 * t + b0)\n",
    "    halfyear = a4 * np.cos(4.0 * np.pi / 365.25 * t + b1)\n",
    "    return lintr + seasonal + halfyear\n",
    "\n",
    "for i in range(N):\n",
    "    popt, pcov = curve_fit(fit_f, data[i,:,0], data[i,:,1])\n",
    "    trends[i] = popt\n",
    "\n",
    "def detrend(data, t, trend):\n",
    "    return data - trend[0] - trend[1] * t - trend[2] * t ** 2 - trend[3] * np.cos(2.0 * np.pi / 365.25 * t + trend[5]) - trend[4] * np.cos(4.0 * np.pi / 365.25 * t + trend[6])\n",
    "    \n",
    "ddata = np.empty((N, M))\n",
    "for i in range(N):\n",
    "    ddata[i] = detrend(data[i,:,1], data[i,:,0], trends[i])\n",
    "    \n",
    "    \n"
   ]
  },
  {
   "cell_type": "code",
   "execution_count": null,
   "metadata": {},
   "outputs": [],
   "source": [
    "data_num = -1\n",
    "\n",
    "xlist = 2002 + data[data_num-1][:,0]/365.25\n",
    "tims = np.array([datetime(2002, 1, 1) + timedelta(days=int(t)) for t in data[data_num-1][:,0]])\n",
    "ylist = data[data_num-1][:,1]\n",
    "\n",
    "trend = lin(xlist,ylist)\n",
    "\n",
    "f, ax = plt.subplots()\n",
    "ax.plot(xlist,ylist,'.-',label = 'Data')\n",
    "ax.plot(xlist,xlist * trend[0] + trend[1],label = 'Linear trend')\n",
    "ax.set_xlabel('Year')\n",
    "ax.set_ylabel('Mass [Gt]')\n",
    "plt.legend()\n",
    "ax.grid()\n",
    "ax.text(0.58, 0.9, \"Filename %s\" % (file_n[data_num-1]), transform=f.transFigure)\n",
    "f.savefig(\"./Pictures/timeseries_266\", dpi=300)\n",
    "plt.show()"
   ]
  },
  {
   "cell_type": "code",
   "execution_count": null,
   "metadata": {},
   "outputs": [],
   "source": [
    "data_num = -1\n",
    "\n",
    "xlist = 2002 + data[data_num-1][:,0]/365.25\n",
    "tims = np.array([datetime(2002, 1, 1) + timedelta(days=int(t)) for t in data[data_num-1][:,0]])\n",
    "ylist = data[data_num-1][:,1]\n",
    "\n",
    "detrended = detrend(ylist, data[data_num-1][:,0], trends[data_num-1])\n",
    "\n",
    "f, ax = plt.subplots()\n",
    "ax.plot(xlist,detrended,'.-',label = 'Data')\n",
    "ax.set_xlabel('Year')\n",
    "ax.set_ylabel('Mass [Gt]')\n",
    "plt.legend()\n",
    "ax.grid()\n",
    "ax.text(0.58, 0.9, \"Filename %s\" % (file_n[data_num-1]), transform=f.transFigure)\n",
    "f.savefig(\"./Pictures/timeseries_266\", dpi=300)\n",
    "plt.show()"
   ]
  },
  {
   "cell_type": "code",
   "execution_count": null,
   "metadata": {},
   "outputs": [],
   "source": [
    "xlist = 2002 + data[0][:,0]/365.25\n",
    "ylist = np.sum(data, axis = 0)[:,1]\n",
    "\n",
    "total_trend = curve_fit(fit_f, data[0,:,0], ylist)[0]\n",
    "total_detrended = detrend(ylist, data[0][:,0], total_trend)\n",
    "trend = lin(xlist, ylist)\n",
    "\n",
    "plt.plot(xlist,ylist,'.-',label = 'Data')\n",
    "plt.plot(xlist,xlist * trend[0] + trend[1],label = 'Linear trend')\n",
    "plt.title('Total Greenland mass change')\n",
    "plt.xlabel('Year')\n",
    "plt.ylabel('Mass [Gt]')\n",
    "plt.grid()\n",
    "plt.savefig(\"./Pictures/timeseries_total\", dpi=300)\n",
    "plt.show()\n",
    "\n",
    "plt.plot(xlist,ddata.sum(axis=0),'.-',label = 'Components Detrended')\n",
    "plt.plot(xlist, total_detrended,'.-',label = 'Total Detrended')\n",
    "\n",
    "plt.title('Total Greenland mass change')\n",
    "plt.xlabel('Year')\n",
    "plt.ylabel('Mass [Gt]')\n",
    "plt.grid()\n",
    "plt.savefig(\"./Pictures/timeseries_detrended_total\", dpi=300)\n",
    "plt.show()"
   ]
  },
  {
   "cell_type": "code",
   "execution_count": null,
   "metadata": {},
   "outputs": [],
   "source": [
    "vel_av = total_trend[1]\n",
    "acc_av = total_trend[2]\n",
    "total_time = data[0][-1,0] - data[0][0,0]\n",
    "print('The average speed is ' + str(np.round(vel_av,decimals=2)) + ' Gt/day.')\n",
    "print('The average acceleration is ' + str(np.round(acc_av,decimals=6)) + ' Gt/day^2.')\n",
    "print('The fraction of acceration of the velocity over the total time period is ' + str(np.round(100*acc_av/vel_av*total_time, decimals = 1)) + '%.')"
   ]
  },
  {
   "cell_type": "code",
   "execution_count": null,
   "metadata": {},
   "outputs": [],
   "source": [
    "vel_av*365\n",
    "acc_av*365*365"
   ]
  },
  {
   "cell_type": "code",
   "execution_count": null,
   "metadata": {},
   "outputs": [],
   "source": [
    "#F = data[:,:,1].T\n",
    "F = ddata.T\n",
    "FT = np.copy(F.T)\n",
    "for i in range(FT.shape[0]):\n",
    "    FT[i] -= FT[i].mean()\n",
    "F = np.copy(FT.T)\n",
    "C = np.dot(FT, F)\n",
    "evals, evecs = np.linalg.eig(C)\n",
    "PCA = np.dot(F, evecs[:])"
   ]
  },
  {
   "cell_type": "code",
   "execution_count": null,
   "metadata": {},
   "outputs": [],
   "source": [
    "PCA_num = 1\n",
    "\n",
    "plt.plot(xlist, PCA[:,PCA_num-1])\n",
    "plt.xlabel('Year')\n",
    "plt.ylabel('Mass [Gt]')\n",
    "plt.title('PC' + str(PCA_num))\n",
    "plt.grid()\n",
    "plt.savefig(\"./Pictures/PC%i\" %PCA_num, dpi=300)\n",
    "plt.show()"
   ]
  },
  {
   "cell_type": "code",
   "execution_count": null,
   "metadata": {},
   "outputs": [],
   "source": [
    "pca_max = 10\n",
    "bars = evals / evals.sum()*100\n",
    "plt.bar(x=range(1,pca_max+1), height=bars[:pca_max])\n",
    "plt.xlabel('Principle component')\n",
    "plt.ylabel('Percentage of Explained Variance')\n",
    "plt.grid()\n",
    "plt.savefig(\"./Pictures/PC_explained\", dpi=300)\n",
    "plt.show()"
   ]
  },
  {
   "cell_type": "code",
   "execution_count": null,
   "metadata": {},
   "outputs": [],
   "source": [
    "R_earth = 6371*10**3\n",
    "A_earth = 4*np.pi*R_earth**2\n",
    "N_c = 4551\n",
    "teta = np.arange(-87,90,3)\n",
    "teta = 2*np.pi/360*teta"
   ]
  },
  {
   "cell_type": "code",
   "execution_count": null,
   "metadata": {},
   "outputs": [],
   "source": [
    "def dellam(teta):\n",
    "    return(4*np.pi/(np.cos(teta)*N_c* 3/360*2*np.pi))"
   ]
  },
  {
   "cell_type": "code",
   "execution_count": null,
   "metadata": {},
   "outputs": [],
   "source": [
    "lamda = np.zeros((teta.size, int(2.0 * np.pi // dellam(0))))\n",
    "for i in range(teta.size):\n",
    "    for j in range(lamda.shape[1]):\n",
    "        lamda[i,j] = (j) * dellam(teta[i])\n",
    "        if lamda[i,j] >= 2*np.pi:\n",
    "            lamda[i,j] = np.nan"
   ]
  },
  {
   "cell_type": "code",
   "execution_count": null,
   "metadata": {},
   "outputs": [],
   "source": [
    "#lon = np.zeros(lamda.shape)\n",
    "#for i in range(lamda.shape[0]):\n",
    "#    lon[i,:] = 360/(2*np.pi)*lamda[i,:]*2*np.pi/np.nanmax(lamda[i])\n",
    "\n",
    "#lat = 360/(2*np.pi)*teta+1.5\n",
    "#lon = 360/(2*np.pi)*lamda"
   ]
  },
  {
   "cell_type": "code",
   "execution_count": null,
   "metadata": {},
   "outputs": [],
   "source": [
    "#siz = np.size(lamda[27,:])-np.isnan(lamda[27,:]).sum()\n",
    "#((siz-1)/siz * 360/(2*np.pi)*lamda[27,:]*2*np.pi/np.nanmax(lamda[27]))"
   ]
  },
  {
   "cell_type": "code",
   "execution_count": null,
   "metadata": {},
   "outputs": [],
   "source": [
    "# testcell\n",
    "lon = np.zeros(lamda.shape)\n",
    "for i in range(lamda.shape[0]):\n",
    "    if 2*np.pi-np.max(lamda[i,:]) < 0.5*lamda[i,1]:\n",
    "        lon[i,:] = 360/(2*np.pi)*lamda[i,:]*2*np.pi/np.nanmax(lamda[i])\n",
    "    else:\n",
    "        siz = np.size(lamda[i,:])-np.isnan(lamda[i,:]).sum()\n",
    "        lon[i,:] = (siz-1)/siz * 360/(2*np.pi)*lamda[i,:]*2*np.pi/np.nanmax(lamda[i])\n",
    "        if siz < np.size(lamda[i,:]):\n",
    "            lon[i,siz] = 360\n",
    "\n",
    "lat = 360/(2*np.pi)*teta-1.5\n",
    "#lon = 360/(2*np.pi)*lamda"
   ]
  },
  {
   "cell_type": "code",
   "execution_count": null,
   "metadata": {},
   "outputs": [],
   "source": [
    "#nans = np.logical_not(np.isnan(lon[0,:]))\n",
    "#print(nans)\n",
    "\n",
    "#np.interp(lon[29], lon[0][nans], np.arange(lon[0,:].size)[nans])"
   ]
  },
  {
   "cell_type": "code",
   "execution_count": null,
   "metadata": {},
   "outputs": [],
   "source": [
    "#fit = np.zeros(lon[29].size)\n",
    "#testdata = np.arange(lon[0,:].size)\n",
    "#j = 0\n",
    "#for i in range(fit.size):\n",
    "#    if lon[29,i] > lon[0,j+1] and not np.isnan(lon[0,j+1]):\n",
    "#        j += 1\n",
    "#    fit[i] = testdata[j]\n",
    "#fit[-1] = fit[0]\n",
    "#print(fit)"
   ]
  },
  {
   "cell_type": "code",
   "execution_count": null,
   "metadata": {},
   "outputs": [],
   "source": [
    "sdata = data[:,:,1]"
   ]
  },
  {
   "cell_type": "code",
   "execution_count": null,
   "metadata": {},
   "outputs": [],
   "source": [
    "def rebin_data(data, lats, irr_lons, true_color=True):\n",
    "    rl_sz = irr_lons[0].size\n",
    "    new_sz = 721\n",
    "    lonspace = np.linspace(0,360,new_sz)\n",
    "    fit = np.zeros((lat.size, new_sz))\n",
    "    mask = np.full((lat.size, new_sz), False)\n",
    "    rlons = None\n",
    "    \n",
    "    for k in range(irr_lons.shape[0]):\n",
    "        sz = np.sum(np.logical_not(np.isnan(irr_lons[k])))\n",
    "        al = np.zeros(rl_sz)\n",
    "        ml = np.full(rl_sz, True)\n",
    "        rlons = irr_lons[k] if sz == irr_lons[k].size else rlons\n",
    "        if k == 1:\n",
    "            al[sz-3] = data[0] if true_color else 0.0\n",
    "            al[sz-2] = data[1] if true_color else 1.0\n",
    "\n",
    "            ml[sz-3] = False\n",
    "            ml[sz-2] = False\n",
    "        if k == 2:\n",
    "            al[sz-5] = data[2] if true_color else 1.0\n",
    "            al[sz-4] = data[3] if true_color else 0.0\n",
    "            al[sz-3] = data[4] if true_color else 1.0\n",
    "            al[sz-2] = data[5] if true_color else 0.0\n",
    "\n",
    "            ml[sz-5] = False\n",
    "            ml[sz-4] = False\n",
    "            ml[sz-3] = False\n",
    "            ml[sz-2] = False\n",
    "        if k == 3:\n",
    "            al[sz-6] = data[6] if true_color else 0.0\n",
    "            al[sz-5] = data[7] if true_color else 1.0\n",
    "            al[sz-4] = data[8] if true_color else 0.0\n",
    "            al[sz-3] = data[9] if true_color else 1.0\n",
    "\n",
    "            ml[sz-6] = False\n",
    "            ml[sz-5] = False\n",
    "            ml[sz-4] = False\n",
    "            ml[sz-3] = False\n",
    "        if k == 4:\n",
    "            al[sz-7] = data[10] if true_color else 1.0\n",
    "            al[sz-6] = data[11] if true_color else 0.0\n",
    "            al[sz-5] = data[12] if true_color else 1.0\n",
    "            al[sz-4] = data[13] if true_color else 0.0\n",
    "            al[sz-3] = data[14] if true_color else 1.0\n",
    "\n",
    "            ml[sz-7] = False\n",
    "            ml[sz-6] = False\n",
    "            ml[sz-5] = False\n",
    "            ml[sz-4] = False\n",
    "            ml[sz-3] = False\n",
    "        if k == 5:\n",
    "            al[sz-7] = data[15] if true_color else 1.0\n",
    "            al[sz-6] = data[16] if true_color else 0.0\n",
    "            al[sz-5] = data[17] if true_color else 1.0\n",
    "            al[sz-4] = data[18] if true_color else 0.0\n",
    "\n",
    "            ml[sz-7] = False\n",
    "            ml[sz-6] = False\n",
    "            ml[sz-5] = False\n",
    "            ml[sz-4] = False\n",
    "        if k == 6:\n",
    "            al[sz-8] = data[19] if true_color else 0.0\n",
    "            al[sz-7] = data[20] if true_color else 1.0\n",
    "            al[sz-6] = data[21] if true_color else 0.0\n",
    "            al[sz-5] = data[22] if true_color else 1.0\n",
    "            al[sz-4] = data[23] if true_color else 0.0\n",
    "\n",
    "            ml[sz-8] = False\n",
    "            ml[sz-7] = False\n",
    "            ml[sz-6] = False\n",
    "            ml[sz-5] = False\n",
    "            ml[sz-4] = False\n",
    "        if k == 7:\n",
    "            al[sz-9] = data[24] if true_color else 1.0\n",
    "            al[sz-8] = data[25] if true_color else 0.0\n",
    "            al[sz-7] = data[26] if true_color else 1.0\n",
    "            al[sz-6] = data[27] if true_color else 0.0\n",
    "\n",
    "            ml[sz-9] = False\n",
    "            ml[sz-8] = False\n",
    "            ml[sz-7] = False\n",
    "            ml[sz-6] = False\n",
    "        if k == 8:\n",
    "            al[sz-9] = data[28] if true_color else 1.0\n",
    "            al[sz-8] = data[29] if true_color else 0.0\n",
    "\n",
    "            ml[sz-9] = False\n",
    "            ml[sz-8] = False\n",
    "        if k == 9:\n",
    "            al[sz-9] = data[30] if true_color else 0.0\n",
    "            ml[sz-9] = False\n",
    "        #fit = np.zeros(lon[29].size)\n",
    "        j = 0\n",
    "        for i in range(fit.shape[1]):\n",
    "            if lonspace[i] > irr_lons[k,j+1] and not np.isnan(irr_lons[k,j+1]):\n",
    "                j = min(j+1, irr_lons[k].size - 2)\n",
    "            fit[k,i] = al[j]\n",
    "            mask[k,i] = ml[j]\n",
    "        fit[k,-1] = fit[k,0]\n",
    "        mask[k,-1] = mask[k,0]\n",
    "    assert(rlons is not None)\n",
    "    XV, YV = np.meshgrid(lonspace, -lats)\n",
    "    return XV, YV, np.ma.array(fit, mask=mask)\n",
    "\n",
    "\n",
    "year = 2009.5\n",
    "time = np.argmin(np.abs(xlist - year))"
   ]
  },
  {
   "cell_type": "code",
   "execution_count": null,
   "metadata": {},
   "outputs": [],
   "source": [
    "# Dummy Map\n",
    "XV, YV, dumdata = rebin_data(sdata[:,0], lat, lon, False)\n",
    "proj = ccrs.LambertConformal(central_latitude=90, central_longitude=310)\n",
    "\n",
    "\n",
    "f, ax = plt.subplots(figsize=(6, 8), subplot_kw=dict(projection=proj))\n",
    "cb = ax.pcolor(XV, YV, dumdata, cmap=plt.cm.binary, vmin = 0.0, vmax = 1.0, transform=ccrs.PlateCarree())\n",
    "ax.set_extent([-65, -25, 59, 85], ccrs.PlateCarree())\n",
    "ax.add_feature(cfeature.LAND)\n",
    "ax.add_feature(cfeature.NaturalEarthFeature('physical', 'ocean', '50m'), zorder=100, edgecolor='k')\n",
    "ax.gridlines()\n",
    "#f.savefig(\"./Pictures/dummy_map.png\", dpi=300)\n",
    "plt.show()"
   ]
  },
  {
   "cell_type": "code",
   "execution_count": null,
   "metadata": {},
   "outputs": [],
   "source": [
    "# Verbeterde Plot Routine\n",
    "XV, YV, fit = rebin_data(sdata[:,time], lat, lon)\n",
    "proj = ccrs.LambertConformal(central_latitude=90, central_longitude=310)\n",
    "#proj = ccrs.PlateCarree(central_longitude=310)\n",
    "\n",
    "\n",
    "f, ax = plt.subplots(figsize=(6, 8), subplot_kw=dict(projection=proj))\n",
    "cb = ax.pcolor(XV, YV, fit, cmap=plt.cm.coolwarm, vmin = -np.max(np.abs(fit)), vmax = np.max(np.abs(fit)), transform=ccrs.PlateCarree())\n",
    "ax.set_extent([-65, -25, 59, 85], ccrs.PlateCarree())\n",
    "ax.add_feature(cfeature.LAND)\n",
    "ax.add_feature(cfeature.NaturalEarthFeature('physical', 'ocean', '50m'), zorder=100, edgecolor='k')\n",
    "ax.gridlines()\n",
    "ax.text(0.125, 0.88, \"Date: %s\" % tims[time].strftime(\"%m-%Y\"), transform=f.transFigure)\n",
    "cax = f.colorbar(cb, ax=[ax], shrink=0.9)\n",
    "cax.set_label(\"Ice Mass Change (Gt/yr)\")\n",
    "f.savefig(\"./Pictures/data_%s.png\" % tims[time].strftime(\"%m_%Y\"), dpi=300)\n",
    "plt.show()"
   ]
  },
  {
   "cell_type": "code",
   "execution_count": null,
   "metadata": {},
   "outputs": [],
   "source": [
    "eof_i = 1\n",
    "XV, YV, eof_fit = rebin_data(evecs[:,eof_i-1], lat, lon)"
   ]
  },
  {
   "cell_type": "code",
   "execution_count": null,
   "metadata": {},
   "outputs": [],
   "source": [
    "# Verbeterde Plot Routine\n",
    "proj = ccrs.LambertConformal(central_latitude=90, central_longitude=310)\n",
    "\n",
    "f, ax = plt.subplots(figsize=(6, 8), subplot_kw=dict(projection=proj))\n",
    "cb = ax.pcolor(XV, YV, eof_fit, cmap=plt.cm.coolwarm, vmin = -np.max(np.abs(eof_fit)), vmax = np.max(np.abs(eof_fit)), transform=ccrs.PlateCarree())\n",
    "ax.set_extent([-65, -25, 59, 85], ccrs.PlateCarree())\n",
    "ax.add_feature(cfeature.LAND)\n",
    "ax.add_feature(cfeature.NaturalEarthFeature('physical', 'ocean', '50m'), zorder=100, edgecolor='k')\n",
    "ax.gridlines()\n",
    "ax.text(0.125, 0.88, \"EOF #%i\" % eof_i, transform=f.transFigure)\n",
    "cax = f.colorbar(cb, ax=[ax], shrink=0.9)\n",
    "cax.set_label(\"EOF\")\n",
    "f.savefig(\"./Pictures/EOF%i.png\" % eof_i, dpi=300)\n",
    "plt.show()"
   ]
  }
 ],
 "metadata": {
  "kernelspec": {
   "display_name": "Python 3",
   "language": "python",
   "name": "python3"
  },
  "language_info": {
   "codemirror_mode": {
    "name": "ipython",
    "version": 3
   },
   "file_extension": ".py",
   "mimetype": "text/x-python",
   "name": "python",
   "nbconvert_exporter": "python",
   "pygments_lexer": "ipython3",
   "version": "3.6.5"
  }
 },
 "nbformat": 4,
 "nbformat_minor": 4
}
